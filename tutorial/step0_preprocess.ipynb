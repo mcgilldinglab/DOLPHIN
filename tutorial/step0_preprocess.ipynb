{
 "cells": [
  {
   "cell_type": "markdown",
   "metadata": {},
   "source": [
    "# Preprocess "
   ]
  },
  {
   "cell_type": "markdown",
   "metadata": {},
   "source": [
    "### Set up binary file path"
   ]
  },
  {
   "cell_type": "code",
   "execution_count": null,
   "metadata": {},
   "outputs": [],
   "source": [
    "prefetch=\"/mnt/data/kailu/Apps/sratoolkit/bin/prefetch\"\n",
    "fastdump=\"/mnt/data/kailu/Apps/sratoolkit/bin/fastq-dump\"\n",
    "trim=\"/mnt/data/kailu/Apps/Trimmomatic-0.39/trimmomatic-0.39.jar\"\n",
    "featurecount=\"/mnt/data/kailu/Apps/subread-2.0.3-source/bin/featureCounts\"\n",
    "\n",
    "#run the pipeline for every sample\n",
    "# main_folder=\"/mnt/data/kailu/STAR_example/flash_seq_raw\" #everything stored under main folder\n",
    "input_sraList=\"$main_folder/SRR_Acc_List_PBMC_flash_seq_SE.txt\"\n",
    "output_mappingrate=\"$main_folder/mappingRateResults.txt\"\n",
    "#anno_gtf=\"/mnt/data/kailu/STAR_example/gencode_download/gencode.v41.primary_assembly.annotation.gtf\"\n",
    "anno_gtf=\"/mnt/data/kailu/STAR_example/ensembl_mod/Homo_sapiens.GRCh38.107.exon.gtf\"\n"
   ]
  },
  {
   "cell_type": "markdown",
   "metadata": {},
   "source": [
    "## Trim "
   ]
  },
  {
   "cell_type": "code",
   "execution_count": null,
   "metadata": {},
   "outputs": [],
   "source": [
    "## trim\n",
    "!java -jar {trim} SE {main_folder}/{line}/{line}.fastq.gz {main_folder}/{line}/{line}.trim.fastq.gz ILLUMINACLIP:/mnt/data/kailu/Apps/Trimmomatic-0.39/adapters/TruSeq3-SE.fa:2:30:10 LEADING:3 TRAILING:3 SLIDINGWINDOW:4:15 MINLEN:36 \t\n",
    "print(\"$line trimmed Success\")"
   ]
  },
  {
   "cell_type": "markdown",
   "metadata": {},
   "source": [
    "## Alignment"
   ]
  },
  {
   "cell_type": "code",
   "execution_count": null,
   "metadata": {},
   "outputs": [],
   "source": [
    "### alignment\n",
    "!STAR --runThreadN 4 \\\n",
    "        --genomeDir /mnt/data/kailu/STAR_example/ensembl_mod_indx/ \\\n",
    "        --readFilesIn {fastq_path}/{ID_SAMPLE}.trim.fastq.gz \\\n",
    "        --readFilesCommand gunzip -c \\\n",
    "        --outSAMtype BAM SortedByCoordinate \\\n",
    "        --outFileNamePrefix {main_folder}/{line}/{line}."
   ]
  },
  {
   "cell_type": "markdown",
   "metadata": {},
   "source": [
    "## Count"
   ]
  },
  {
   "cell_type": "code",
   "execution_count": null,
   "metadata": {},
   "outputs": [],
   "source": [
    "#count the exon\n",
    "!{featurecount} -t exon -f -O -J -M \\\n",
    "                -a {anno_gtf} \\\n",
    "                -o {main_folder}/{line}/{line}.count.txt \\\n",
    "                {main_folder}/{line}/${line}.Aligned.sortedByCoord.out.bam\n",
    "\n",
    "\n",
    "#featurecounts - gene count\n",
    "!{featureCounts} -t exon -O -J -M \\\n",
    "    -a /mnt/data/kailu/STAR_example/ensembl_mod/Homo_sapiens.GRCh38.107.exon.gtf \\\n",
    "    -o ./12_exon_gene_count/$ID_SAMPLE.gene.count.txt \\\n",
    "    ./11_single_exon_bam/filtered.TAG_CB:Z_$ID_SAMPLE-1.bam\n",
    "\n",
    "#featurecounts - junction count\n",
    "!{featureCounts} -t exon -f -O -J -M \\\n",
    "    -a /mnt/data/kailu/STAR_example/ensembl_mod/Homo_sapiens.GRCh38.107.exon.gtf \\\n",
    "    -o ./13_exon_junction_count/{ID_SAMPLE}.count.txt \\\n",
    "    ./11_single_exon_bam/filtered.TAG_CB:Z_{ID_SAMPLE}-1.bam"
   ]
  }
 ],
 "metadata": {
  "language_info": {
   "name": "python"
  }
 },
 "nbformat": 4,
 "nbformat_minor": 2
}
