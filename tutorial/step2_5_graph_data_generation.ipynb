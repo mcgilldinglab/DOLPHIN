{
 "cells": [
  {
   "cell_type": "markdown",
   "metadata": {},
   "source": [
    "# Generate Graph Data for MODEl input"
   ]
  },
  {
   "cell_type": "code",
   "execution_count": 1,
   "metadata": {},
   "outputs": [
    {
     "name": "stderr",
     "output_type": "stream",
     "text": [
      "/mnt/md0/kailu/anaconda3/envs/DOLPHIN/lib/python3.10/site-packages/tqdm/auto.py:21: TqdmWarning: IProgress not found. Please update jupyter and ipywidgets. See https://ipywidgets.readthedocs.io/en/stable/user_install.html\n",
      "  from .autonotebook import tqdm as notebook_tqdm\n"
     ]
    }
   ],
   "source": [
    "from DOLPHIN import get_graph_input"
   ]
  },
  {
   "cell_type": "code",
   "execution_count": null,
   "metadata": {},
   "outputs": [],
   "source": [
    "metadata = \"your_metaData.csv\"\n",
    "df_label = pd.read_csv(metadata, sep='\\t')\n",
    "total_sample_size = len(df_label)\n",
    "main_folder=\"Path_to_save_output_data\"\n",
    "\n",
    "# Define your study name (update this for your specific study)\n",
    "study_name = \"STUDY\"\n",
    "\n",
    "gnn_run_num = 100\n",
    "\n",
    "output_directory = os.path.join(main_folder, \"final_data\")\n",
    "graph_directory = os.path.join(main_folder \"06_graph_mtx\")\n",
    "exon_gene_featurecount_directory=os.path.join(main_folder, \"04_exon_gene_cnt\")\n",
    "\n",
    "# Required files\n",
    "gene_annotation = \"gene_id_annotation.csv\"\n",
    "gtf_pkl_path = \"gtf.pkl\"\n",
    "gtf_jun_pkl_path = \"df_jun_gtf.pkl\"\n",
    "gtf_path= \"Homo_sapiens.GRCh38.107.gtf\""
   ]
  },
  {
   "cell_type": "code",
   "execution_count": null,
   "metadata": {},
   "outputs": [],
   "source": [
    "### Optional: Define Cell Type Information in Metadata\n",
    "celltypename=\"cluster\"\n",
    "# please assign value to each cell types\n",
    "celltype_mapper = {'celltype1':0, 'celltype2':1, 'celltype3':2, 'celltype4':3, ...}\n",
    " "
   ]
  },
  {
   "cell_type": "code",
   "execution_count": null,
   "metadata": {},
   "outputs": [],
   "source": [
    "print(\"Start Construct Data Input for Pytorch Geometric\")\n",
    "with tqdm(total=total_sample_size) as pbar_gnn:\n",
    "    for i in range(0, total_sample_size):\n",
    "        if i%gnn_run_num==0:\n",
    "            pbar_gnn= get_graph_input(pbar_gnn, i, gnn_run_num, output_directory, study_name, celltypename=celltypename, mapper=celltype_mapper)\n",
    "\n",
    "#### combine all  geometric .pt files\n",
    "total_number_gnn_anndata = math.ceil(total_sample_size/gnn_run_num)\n",
    "for _idx, _gnn_idx in enumerate(range(0, total_number_gnn_anndata)):\n",
    "    _temp_gnn = torch.load(os.path.join(output_directory, \"geometric_\"+study_name+\"_\"+str(_gnn_idx)+\".pt\"))\n",
    "    if _idx ==0:\n",
    "        combine_gnn = _temp_gnn\n",
    "    else:\n",
    "        combine_gnn += _temp_gnn\n",
    "torch.save(combine_gnn, os.path.join(output_directory, \"geometric_\"+study_name+\".pt\"))\n"
   ]
  },
  {
   "cell_type": "code",
   "execution_count": null,
   "metadata": {},
   "outputs": [],
   "source": [
    "### Remove All Temporary Datasets\n",
    "file_pattern = os.path.join(output_directory, f\"geometric_{study_name}_*\")\n",
    "\n",
    "files_to_remove = glob.glob(file_pattern)\n",
    "\n",
    "# Remove each file\n",
    "for file in files_to_remove:\n",
    "    if os.path.exists(file):  # Check if the file exists\n",
    "        os.remove(file)\n",
    "        print(f\"Removed: {file}\")\n",
    "    else:\n",
    "        print(f\"File not found: {file}\")"
   ]
  }
 ],
 "metadata": {
  "kernelspec": {
   "display_name": "DOLPHIN",
   "language": "python",
   "name": "python3"
  },
  "language_info": {
   "codemirror_mode": {
    "name": "ipython",
    "version": 3
   },
   "file_extension": ".py",
   "mimetype": "text/x-python",
   "name": "python",
   "nbconvert_exporter": "python",
   "pygments_lexer": "ipython3",
   "version": "3.10.15"
  }
 },
 "nbformat": 4,
 "nbformat_minor": 2
}
