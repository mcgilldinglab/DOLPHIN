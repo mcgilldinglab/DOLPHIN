{
 "cells": [
  {
   "cell_type": "markdown",
   "metadata": {},
   "source": [
    "# Exon-Level Differential Gene Analysis Using Feature Matrix\n",
    "\n",
    "In this section, we perform exon-level differential gene analysis by utilizing the feature matrix. This analysis helps identify genes that show significant differences in expression between different conditions or cell types at the exon level, enabling a more granular understanding of gene regulation.\n"
   ]
  },
  {
   "cell_type": "code",
   "execution_count": 1,
   "metadata": {},
   "outputs": [],
   "source": [
    "import pandas as pd\n",
    "import numpy as np\n",
    "import statsmodels.stats.multitest as smm"
   ]
  },
  {
   "cell_type": "code",
   "execution_count": 2,
   "metadata": {},
   "outputs": [],
   "source": [
    "def create_df_seurat(temp_name, leiden_res, num):\n",
    "    print(temp_name)\n",
    "    pd_temp = pd.read_csv(\"./\"+temp_name+\"/AdjacencyComp_\"+temp_name+\"_\"+leiden_res+\"_cluster_\"+num+\".csv\")\n",
    "    pd_temp = pd_temp.rename(columns={\"Unnamed: 0\":\"Exon_names\"})\n",
    "    pd_temp['Gene_names'] = pd_temp['Exon_names'].apply(lambda x: x[:x.rfind('-')] if '-' in x else x)\n",
    "    pd_temp = pd_temp.rename(columns={\"Gene_names\":\"Cancer_gene_names\", \"Exon_names\":\"Cancer_names\",\"p_val\":temp_name+\"_pvals\", \"p_val_adj\":temp_name+\"_pvals_adj\", \"avg_log2FC\":temp_name+\"_logfoldchanges\", \"pct.1\":temp_name+\"_pct.1\", \"pct.2\":temp_name+\"_pct.2\"})\n",
    "    print(len(set(pd_temp[(pd_temp[temp_name+\"_pvals_adj\"] < 0.05)&(abs(pd_temp[temp_name+\"_logfoldchanges\"])>1)][\"Cancer_gene_names\"])))\n",
    "    return pd_temp"
   ]
  },
  {
   "cell_type": "code",
   "execution_count": 3,
   "metadata": {},
   "outputs": [
    {
     "name": "stdout",
     "output_type": "stream",
     "text": [
      "MAST\n",
      "234\n"
     ]
    }
   ],
   "source": [
    "pd_combine = create_df_seurat(\"MAST\", \"leiden_0_4_8\", \"2\")"
   ]
  },
  {
   "cell_type": "markdown",
   "metadata": {},
   "source": [
    "## stouffer method and average p-value and average log2fc"
   ]
  },
  {
   "cell_type": "code",
   "execution_count": 4,
   "metadata": {},
   "outputs": [],
   "source": [
    "for type in [\"MAST\"]:\n",
    "    pd_combine[type+'_abs_avg_log2FC'] = pd_combine.groupby('Cancer_gene_names')[type+'_logfoldchanges'].transform(lambda x: x.dropna().abs().mean())"
   ]
  },
  {
   "cell_type": "code",
   "execution_count": 7,
   "metadata": {},
   "outputs": [],
   "source": [
    "from scipy.stats import norm\n",
    "\n",
    "def stouffer_method(pvals):\n",
    "    \"\"\"\n",
    "    Combine p-values using the unweighted Stouffer's method.\n",
    "    \n",
    "    Parameters:\n",
    "    - pvals: list or array of p-values\n",
    "    \n",
    "    Returns:\n",
    "    - combined_p_value: The combined p-value after applying Stouffer's method.\n",
    "    - combined_z: The combined z-score.\n",
    "    \"\"\"\n",
    "    non_nan_pvals = pvals[~np.isnan(pvals)]\n",
    "    \n",
    "    if (len(non_nan_pvals) == 0):\n",
    "        return np.nan\n",
    "    \n",
    "    # Convert p-values to z-scores\n",
    "    z_scores = norm.isf(non_nan_pvals)  # Inverse survival function (equivalent to 1 - CDF)\n",
    "    \n",
    "    # Calculate the unweighted z-score\n",
    "    combined_z = np.sum(z_scores) / np.sqrt(len(non_nan_pvals))\n",
    "    \n",
    "    # Convert the combined z-score back to a p-value\n",
    "    combined_p_value = norm.sf(combined_z)  # Survival function (1 - CDF)\n",
    "    \n",
    "    return combined_p_value"
   ]
  },
  {
   "cell_type": "code",
   "execution_count": 8,
   "metadata": {},
   "outputs": [],
   "source": [
    "for type in [\"MAST\"]:\n",
    "    temp_stouffer_p = pd_combine.groupby('Cancer_gene_names').apply(\n",
    "        lambda x: stouffer_method(x[type+'_pvals'].values)\n",
    "    ).reset_index(name='temp_p_value')\n",
    "\n",
    "    dict_temp_p_value = dict(zip(temp_stouffer_p['Cancer_gene_names'], temp_stouffer_p['temp_p_value']))\n",
    "\n",
    "    pd_combine[type+'_stouffer_pval'] = pd_combine['Cancer_gene_names'].map(dict_temp_p_value)\n",
    "    \n",
    "    ## adjusted weighted fisher's p-value    \n",
    "    df_sub_temp = pd_combine.dropna(subset=[type+'_stouffer_pval']).copy()\n",
    "    df_sub_temp = df_sub_temp.drop_duplicates(subset=['Cancer_gene_names'])\n",
    "    _, adjusted_pvals, _, _ = smm.multipletests(df_sub_temp[type+'_stouffer_pval'], method='fdr_bh')\n",
    "    _, adjusted_pvals_bonf, _, _ = smm.multipletests(df_sub_temp[type+'_stouffer_pval'], method='bonferroni')\n",
    "    \n",
    "    df_sub_temp[\"temp_adj_p\"] = adjusted_pvals\n",
    "    df_sub_temp[\"temp_adj_p_bonf\"] = adjusted_pvals_bonf\n",
    "    \n",
    "    dict_p_adj = dict(zip(df_sub_temp[\"Cancer_gene_names\"], df_sub_temp[\"temp_adj_p\"]))\n",
    "    dict_p_adj_bonf = dict(zip(df_sub_temp[\"Cancer_gene_names\"], df_sub_temp[\"temp_adj_p_bonf\"]))\n",
    "\n",
    "    pd_combine[type+\"_stouffer_pval_adj\"] = pd_combine[\"Cancer_gene_names\"].map(dict_p_adj)\n",
    "    pd_combine[type+\"_stouffer_pval_adj_bonf\"] = pd_combine[\"Cancer_gene_names\"].map(dict_p_adj_bonf)"
   ]
  },
  {
   "cell_type": "code",
   "execution_count": 13,
   "metadata": {},
   "outputs": [],
   "source": [
    "pd_combine_sub = pd_combine[(abs(pd_combine[\"MAST_abs_avg_log2FC\"]) >1) & (pd_combine[\"MAST_stouffer_pval_adj_bonf\"] < 0.05)]"
   ]
  },
  {
   "cell_type": "code",
   "execution_count": 15,
   "metadata": {},
   "outputs": [
    {
     "data": {
      "text/plain": [
       "742"
      ]
     },
     "execution_count": 15,
     "metadata": {},
     "output_type": "execute_result"
    }
   ],
   "source": [
    "len(set(pd_combine_sub[\"Cancer_gene_names\"]))"
   ]
  },
  {
   "cell_type": "code",
   "execution_count": 21,
   "metadata": {},
   "outputs": [],
   "source": [
    "pd_combine.to_csv(\"./MAST/AdjacencyComp_leiden_0_4_8_cluster_2_MAST_v2_\"+str(len(set(pd_combine_sub[\"Cancer_gene_names\"])))+\".csv\", index=False)"
   ]
  },
  {
   "cell_type": "code",
   "execution_count": 20,
   "metadata": {},
   "outputs": [],
   "source": [
    "pd_combine_sub[\"Cancer_gene_names\"].drop_duplicates().to_csv(\"./MAST/AdjacencyComp_leiden_0_4_8_cluster_2_MAST_v2_Topp_\"+str(len(set(pd_combine_sub[\"Cancer_gene_names\"])))+\".csv\", index=False, header = False)"
   ]
  }
 ],
 "metadata": {
  "kernelspec": {
   "display_name": "dvaegpuEnv",
   "language": "python",
   "name": "python3"
  },
  "language_info": {
   "codemirror_mode": {
    "name": "ipython",
    "version": 3
   },
   "file_extension": ".py",
   "mimetype": "text/x-python",
   "name": "python",
   "nbconvert_exporter": "python",
   "pygments_lexer": "ipython3",
   "version": "3.9.15"
  }
 },
 "nbformat": 4,
 "nbformat_minor": 2
}
