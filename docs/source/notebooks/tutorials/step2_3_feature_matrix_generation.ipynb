{
 "cells": [
  {
   "cell_type": "markdown",
   "metadata": {},
   "source": [
    "# Generate Feature Matrix"
   ]
  },
  {
   "cell_type": "code",
   "execution_count": 1,
   "metadata": {},
   "outputs": [
    {
     "name": "stderr",
     "output_type": "stream",
     "text": [
      "/mnt/md0/kailu/anaconda3/envs/DOLPHIN/lib/python3.10/site-packages/tqdm/auto.py:21: TqdmWarning: IProgress not found. Please update jupyter and ipywidgets. See https://ipywidgets.readthedocs.io/en/stable/user_install.html\n",
      "  from .autonotebook import tqdm as notebook_tqdm\n"
     ]
    }
   ],
   "source": [
    "from DOLPHIN import combine_fea, fea_comp, get_fea_hvg"
   ]
  },
  {
   "cell_type": "code",
   "execution_count": null,
   "metadata": {},
   "outputs": [],
   "source": [
    "metadata = \"your_metaData.csv\"\n",
    "df_label = pd.read_csv(metadata, sep='\\t')\n",
    "total_sample_size = len(df_label)\n",
    "\n",
    "# Define your study name (update this for your specific study)\n",
    "study_name = \"STUDY\"\n",
    "\n",
    "fea_run_num = 100\n",
    "\n",
    "output_directory = os.path.join(main_folder, \"final_data\")\n",
    "graph_directory = os.path.join(main_folder \"06_graph_mtx\")\n",
    "exon_gene_featurecount_directory=os.path.join(main_folder, \"04_exon_gene_cnt\")\n",
    "\n",
    "# Required files\n",
    "gene_annotation = \"gene_id_annotation.csv\"\n",
    "gtf_pkl_path = \"gtf.pkl\"\n",
    "gtf_jun_pkl_path = \"df_jun_gtf.pkl\"\n",
    "gtf_path= \"Homo_sapiens.GRCh38.107.gtf\""
   ]
  },
  {
   "cell_type": "code",
   "execution_count": null,
   "metadata": {},
   "outputs": [],
   "source": [
    "print(\"Start Combine Feature Matrix\")\n",
    "with tqdm(total=total_sample_size) as pbar_fea:\n",
    "    for i in range(0, total_sample_size):\n",
    "        if i%fea_run_num==0:\n",
    "            pbar_fea=combine_fea(pbar_fea, df_label, graph_directory, gene_annotation, gtf_pkl_path, start_idx = i, sample_num=fea_run_num, output_path=output_directory, output_name= study_name)"
   ]
  },
  {
   "cell_type": "code",
   "execution_count": null,
   "metadata": {},
   "outputs": [],
   "source": [
    "#### combine all feature .h5ad files\n",
    "total_number_fea_anndata = math.ceil(total_sample_size/fea_run_num)\n",
    "for _idx, _fea_idx in enumerate(range(0, total_number_fea_anndata)):\n",
    "    _temp_ad = anndata.read_h5ad(os.path.join(output_directory, \"Feature_\"+study_name+\"_\"+str(_fea_idx)+\".h5ad\"))\n",
    "    if _idx ==0:\n",
    "        combine_anndata_fea = _temp_ad\n",
    "    else:\n",
    "        combine_anndata_fea = combine_anndata_fea.concatenate(_temp_ad, index_unique = None, batch_key = None)\n",
    "combine_anndata_fea.write(os.path.join(output_directory,\"Feature_\"+study_name+\".h5ad\"))\n",
    "\n",
    "fea_comp(output_directory, study_name)"
   ]
  },
  {
   "cell_type": "code",
   "execution_count": null,
   "metadata": {},
   "outputs": [],
   "source": [
    "### Remove All Temporary Datasets\n",
    "file_pattern = os.path.join(output_directory, f\"Feature_{study_name}_*\")\n",
    "\n",
    "files_to_remove = glob.glob(file_pattern)\n",
    "\n",
    "# Remove each file\n",
    "for file in files_to_remove:\n",
    "    if os.path.exists(file):  # Check if the file exists\n",
    "        os.remove(file)\n",
    "        print(f\"Removed: {file}\")\n",
    "    else:\n",
    "        print(f\"File not found: {file}\")"
   ]
  },
  {
   "cell_type": "markdown",
   "metadata": {},
   "source": [
    "### Filter Feature Matrix with Highly Variable Genes (HVG)"
   ]
  },
  {
   "cell_type": "code",
   "execution_count": null,
   "metadata": {},
   "outputs": [],
   "source": [
    "get_fea_hvg(output_directory, study_name)"
   ]
  }
 ],
 "metadata": {
  "kernelspec": {
   "display_name": "DOLPHIN",
   "language": "python",
   "name": "python3"
  },
  "language_info": {
   "codemirror_mode": {
    "name": "ipython",
    "version": 3
   },
   "file_extension": ".py",
   "mimetype": "text/x-python",
   "name": "python",
   "nbconvert_exporter": "python",
   "pygments_lexer": "ipython3",
   "version": "3.10.15"
  }
 },
 "nbformat": 4,
 "nbformat_minor": 2
}
