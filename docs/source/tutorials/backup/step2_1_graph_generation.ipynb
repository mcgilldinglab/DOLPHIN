{
 "cells": [
  {
   "cell_type": "markdown",
   "metadata": {},
   "source": [
    "# Generate Feature Matrix and Adjacency Matrix\n",
    "\n",
    "Generate the **feature matrix** and **adjacency matrix** using the exon read counts and junction read counts obtained from the count files. For detailed instructions on aligning the RNA-seq data, refer to the following tutorials:\n",
    "\n",
    "- **Full-length RNA-seq**: [step1_1_preprocess_full_length.md](./step1_1_preprocess_full_length.md)\n",
    "- **10X RNA-seq**: [step1_2_preprocess_10X.md](step1_2_preprocess_10X.md)\n",
    "\n",
    "Before running this section, please ensure that your counts data and metadata file is ready, and also make sure you have the `dolphin_adj_index.csv` and `dolphin.exon.pkl` files prepared. These files can be generated in this [file](./step0_generate_exon_gtf_final.ipynb). \n",
    "\n",
    "For human GRCh38, you can directly download the necessary files from [here](https://mcgill-my.sharepoint.com/:f:/g/personal/kailu_song_mail_mcgill_ca/EvZtHeW7qjJJs_RHc2-327ABeLXafa-ruvfk9Vs134crig?e=TsGsk8).\n",
    "\n",
    "### Metadata File Format\n",
    "\n",
    "The metadata file should be tab-separated, with the **\"CB\"** (cell barcode) column as the only mandatory column. You can add as many metadata columns as needed. These additional metadata columns will be retained in all output `adata` files as **obs** (observations).\n",
    "\n",
    "| CB                      | cluster           | \n",
    "|--------------------------|-------------------|\n",
    "| T8_AAAGCAAGTCGCGAAA      | Stellate cell     | \n",
    "| T8_AAATGCCAGCTGGAAC      | Macrophage cell   | \n",
    "| T8_AAATGCCGTAGCTGCC      | Macrophage cell   | \n",
    "| T8_AAATGCCTCCACTGGG      | Ductal cell type 2| \n",
    "| ...                      | ...               | \n",
    "\n",
    "**Notes:**\n",
    "- The **\"CB\"** column is mandatory as it represents the cell barcode.\n",
    "- Additional columns (e.g., **cluster**, **source**, etc.) can be added based on the specific metadata required for your analysis.\n",
    "- These metadata columns will be included in the output `adata` files under **obs**.\n",
    "- **\"CB\"** will be used to find the **count table file names** and will be stored as **obs index** in `adata`."
   ]
  },
  {
   "cell_type": "code",
   "execution_count": 1,
   "metadata": {},
   "outputs": [
    {
     "name": "stderr",
     "output_type": "stream",
     "text": [
      "/mnt/md0/kailu/anaconda3/envs/DOLPHIN/lib/python3.10/site-packages/tqdm/auto.py:21: TqdmWarning: IProgress not found. Please update jupyter and ipywidgets. See https://ipywidgets.readthedocs.io/en/stable/user_install.html\n",
      "  from .autonotebook import tqdm as notebook_tqdm\n"
     ]
    }
   ],
   "source": [
    "from DOLPHIN import gene, get_gtf\n",
    "import os"
   ]
  },
  {
   "cell_type": "code",
   "execution_count": 3,
   "metadata": {},
   "outputs": [],
   "source": [
    "## This folder contains all the counts table files, undert this main folder \"05_exon_junct_cnt\" contains exon counts and junction counts files\n",
    "main_folder = \"./00_data_generation/\"\n",
    "output_folder = \"06_graph_mtx\" ## output files are stored here\n",
    "os.makedirs(os.path.join(main_folder, output_folder), exist_ok=True)"
   ]
  },
  {
   "cell_type": "code",
   "execution_count": null,
   "metadata": {},
   "outputs": [],
   "source": [
    "metadata = \"your_metaData.csv\"\n",
    "pd_gt = pd.read_csv(metadata, sep=\"\\t\")\n",
    "mr_cb_list = list(pd_gt[pd_gt.columns[0]]) "
   ]
  },
  {
   "cell_type": "code",
   "execution_count": 4,
   "metadata": {},
   "outputs": [],
   "source": [
    "path_gtf = \"./gtf.pkl\"\n",
    "path_adj_index = \"./adj_index.csv\""
   ]
  },
  {
   "cell_type": "code",
   "execution_count": 6,
   "metadata": {},
   "outputs": [],
   "source": [
    "gtf, adj_ind = get_gtf(path_gtf, path_adj_index)"
   ]
  },
  {
   "cell_type": "markdown",
   "metadata": {},
   "source": [
    "### Note on Processing\n",
    "\n",
    "This will run one cell at a time. Later, implementing multiprocessing will help speed up the process by running multiple cells concurrently."
   ]
  },
  {
   "cell_type": "code",
   "execution_count": null,
   "metadata": {},
   "outputs": [],
   "source": [
    "for i in range(0,len(mr_cb_list)):\n",
    "    g = gene(main_folder, gtf, adj_ind, mr_cb_list[i])\n",
    "    g.get_all()"
   ]
  }
 ],
 "metadata": {
  "kernelspec": {
   "display_name": "DOLPHIN",
   "language": "python",
   "name": "python3"
  },
  "language_info": {
   "codemirror_mode": {
    "name": "ipython",
    "version": 3
   },
   "file_extension": ".py",
   "mimetype": "text/x-python",
   "name": "python",
   "nbconvert_exporter": "python",
   "pygments_lexer": "ipython3",
   "version": "3.10.15"
  }
 },
 "nbformat": 4,
 "nbformat_minor": 2
}
