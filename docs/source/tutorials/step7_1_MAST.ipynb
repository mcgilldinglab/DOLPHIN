{
 "cells": [
  {
   "cell_type": "markdown",
   "metadata": {},
   "source": [
    "# Exon-Level Differential Gene Analysis (EDEG)\n",
    "\n",
    "In this section, we perform exon-level differential gene analysis using the feature matrix. \n",
    "This analysis aims to identify genes that exhibit significant differences in exon-level expression \n",
    "between different conditions or cell types."
   ]
  },
  {
   "cell_type": "markdown",
   "metadata": {},
   "source": [
    "### Step 1: Identify Exon Markers Using MAST\n",
    "\n",
    "In this step, **DOLPHIN** uses the [MAST](https://genomebiology.biomedcentral.com/articles/10.1186/s13059-015-0844-5) model through the [Seurat](https://satijalab.org/seurat/) package to compute p-values for each exon. This helps identify exons that are differentially expressed across cell clusters or experimental conditions.\n",
    "\n",
    "> **Note:** A separate conda environment is required to run Seurat. You can create it using the following commands:\n",
    "\n",
    "```bash\n",
    "conda env create -f environment_linux_R.yaml\n",
    "pip install .\n",
    "```\n",
    "\n",
    "and then install MAST using the code below\n",
    "\n",
    "```bash\n",
    "if (!requireNamespace(\"BiocManager\", quietly = TRUE))\n",
    "    install.packages(\"BiocManager\")\n",
    "\n",
    "BiocManager::install(\"MAST\")\n",
    "```"
   ]
  },
  {
   "cell_type": "code",
   "execution_count": 1,
   "metadata": {},
   "outputs": [
    {
     "name": "stderr",
     "output_type": "stream",
     "text": [
      "\n",
      "Attaching package: ‘dplyr’\n",
      "\n",
      "The following objects are masked from ‘package:stats’:\n",
      "\n",
      "    filter, lag\n",
      "\n",
      "The following objects are masked from ‘package:base’:\n",
      "\n",
      "    intersect, setdiff, setequal, union\n",
      "\n",
      "Warning message:\n",
      "package ‘dplyr’ was built under R version 4.2.3 \n",
      "Attaching SeuratObject\n",
      "Seurat v4 was just loaded with SeuratObject v5; disabling v5 assays and\n",
      "validation routines, and ensuring assays work in strict v3/v4\n",
      "compatibility mode\n",
      "Warning message:\n",
      "package ‘Seurat’ was built under R version 4.2.1 \n",
      "Warning message:\n",
      "package ‘patchwork’ was built under R version 4.2.3 \n",
      "Warning message:\n",
      "package ‘reticulate’ was built under R version 4.2.3 \n",
      "Warning: Feature names cannot have underscores ('_'), replacing with dashes ('-')\n",
      "Warning: Feature names cannot have underscores ('_'), replacing with dashes ('-')\n",
      "Warning message:\n",
      "In asMethod(object) :\n",
      "  sparse->dense coercion: allocating vector of size 6.5 GiB\n"
     ]
    }
   ],
   "source": [
    "### Step 1-1: Convert .h5ad file to .rds format using Python\n",
    "# This step uses the Python kernel to call an R script that converts\n",
    "# the input AnnData (.h5ad) file into a Seurat-compatible .rds object.\n",
    "from DOLPHIN.EDEG.call_convert import run_h5ad_rds\n",
    "\n",
    "run_h5ad_rds(\n",
    "    input_anndata = \"./Feature_PDAC.h5ad\",\n",
    "    output_rds = \"./Feature_PDAC.rds\"\n",
    ")"
   ]
  },
  {
   "cell_type": "code",
   "execution_count": 2,
   "metadata": {},
   "outputs": [
    {
     "name": "stderr",
     "output_type": "stream",
     "text": [
      "Warning message:\n",
      "“package ‘Seurat’ was built under R version 4.2.1”\n",
      "Attaching SeuratObject\n",
      "\n",
      "Seurat v4 was just loaded with SeuratObject v5; disabling v5 assays and\n",
      "validation routines, and ensuring assays work in strict v3/v4\n",
      "compatibility mode\n",
      "\n"
     ]
    }
   ],
   "source": [
    "###  Step 1-2: Run MAST to identify exon-level markers (using R kernel for this step)\n",
    "library(Seurat)"
   ]
  },
  {
   "cell_type": "code",
   "execution_count": null,
   "metadata": {},
   "outputs": [],
   "source": [
    "seurat_obj <- readRDS(file = \"./Feature_PDAC.rds\")\n",
    "seurat_obj <- NormalizeData(seurat_obj, normalization.method = \"LogNormalize\", scale.factor = 10000)"
   ]
  },
  {
   "cell_type": "code",
   "execution_count": null,
   "metadata": {},
   "outputs": [],
   "source": [
    "seurat_obj@meta.data$Condition <- ifelse(grepl(\"N\", seurat_obj@meta.data$source), \"normal\", \"cancer\")"
   ]
  },
  {
   "cell_type": "code",
   "execution_count": 5,
   "metadata": {},
   "outputs": [
    {
     "data": {
      "text/html": [
       "<style>\n",
       ".list-inline {list-style: none; margin:0; padding: 0}\n",
       ".list-inline>li {display: inline-block}\n",
       ".list-inline>li:not(:last-child)::after {content: \"\\00b7\"; padding: 0 .5ex}\n",
       "</style>\n",
       "<ol class=list-inline><li>Macrophage cell</li><li>Stellate cell</li><li>Endothelial cell</li><li>Ductal cell type 1</li><li>Fibroblast cell</li><li>B cell</li><li>Acinar cell</li><li>Endocrine cell</li><li>T cell</li><li>Ductal cell type 2</li></ol>\n",
       "\n",
       "<details>\n",
       "\t<summary style=display:list-item;cursor:pointer>\n",
       "\t\t<strong>Levels</strong>:\n",
       "\t</summary>\n",
       "\t<style>\n",
       "\t.list-inline {list-style: none; margin:0; padding: 0}\n",
       "\t.list-inline>li {display: inline-block}\n",
       "\t.list-inline>li:not(:last-child)::after {content: \"\\00b7\"; padding: 0 .5ex}\n",
       "\t</style>\n",
       "\t<ol class=list-inline><li>'Acinar cell'</li><li>'B cell'</li><li>'Ductal cell type 1'</li><li>'Ductal cell type 2'</li><li>'Endocrine cell'</li><li>'Endothelial cell'</li><li>'Fibroblast cell'</li><li>'Macrophage cell'</li><li>'Stellate cell'</li><li>'T cell'</li></ol>\n",
       "</details>"
      ],
      "text/latex": [
       "\\begin{enumerate*}\n",
       "\\item Macrophage cell\n",
       "\\item Stellate cell\n",
       "\\item Endothelial cell\n",
       "\\item Ductal cell type 1\n",
       "\\item Fibroblast cell\n",
       "\\item B cell\n",
       "\\item Acinar cell\n",
       "\\item Endocrine cell\n",
       "\\item T cell\n",
       "\\item Ductal cell type 2\n",
       "\\end{enumerate*}\n",
       "\n",
       "\\emph{Levels}: \\begin{enumerate*}\n",
       "\\item 'Acinar cell'\n",
       "\\item 'B cell'\n",
       "\\item 'Ductal cell type 1'\n",
       "\\item 'Ductal cell type 2'\n",
       "\\item 'Endocrine cell'\n",
       "\\item 'Endothelial cell'\n",
       "\\item 'Fibroblast cell'\n",
       "\\item 'Macrophage cell'\n",
       "\\item 'Stellate cell'\n",
       "\\item 'T cell'\n",
       "\\end{enumerate*}\n"
      ],
      "text/markdown": [
       "1. Macrophage cell\n",
       "2. Stellate cell\n",
       "3. Endothelial cell\n",
       "4. Ductal cell type 1\n",
       "5. Fibroblast cell\n",
       "6. B cell\n",
       "7. Acinar cell\n",
       "8. Endocrine cell\n",
       "9. T cell\n",
       "10. Ductal cell type 2\n",
       "\n",
       "\n",
       "\n",
       "**Levels**: 1. 'Acinar cell'\n",
       "2. 'B cell'\n",
       "3. 'Ductal cell type 1'\n",
       "4. 'Ductal cell type 2'\n",
       "5. 'Endocrine cell'\n",
       "6. 'Endothelial cell'\n",
       "7. 'Fibroblast cell'\n",
       "8. 'Macrophage cell'\n",
       "9. 'Stellate cell'\n",
       "10. 'T cell'\n",
       "\n",
       "\n"
      ],
      "text/plain": [
       " [1] Macrophage cell    Stellate cell      Endothelial cell   Ductal cell type 1\n",
       " [5] Fibroblast cell    B cell             Acinar cell        Endocrine cell    \n",
       " [9] T cell             Ductal cell type 2\n",
       "10 Levels: Acinar cell B cell Ductal cell type 1 ... T cell"
      ]
     },
     "metadata": {},
     "output_type": "display_data"
    }
   ],
   "source": [
    "unique(seurat_obj@meta.data$cluster)"
   ]
  },
  {
   "cell_type": "code",
   "execution_count": null,
   "metadata": {},
   "outputs": [],
   "source": [
    "Idents(seurat_obj) <- \"Condition\""
   ]
  },
  {
   "cell_type": "code",
   "execution_count": 9,
   "metadata": {},
   "outputs": [
    {
     "name": "stderr",
     "output_type": "stream",
     "text": [
      "\n",
      "Done!\n",
      "\n",
      "Combining coefficients and standard errors\n",
      "\n",
      "Calculating log-fold changes\n",
      "\n",
      "Calculating likelihood ratio tests\n",
      "\n",
      "Refitting on reduced model...\n",
      "\n",
      "\n",
      "Done!\n",
      "\n"
     ]
    }
   ],
   "source": [
    "### Performing within-cluster comparisons at the cluster level.  \n",
    "### You can modify the code below based on the design of your project.\n",
    "### The code below performs comparison between normal and cancer cells within the ductal cell population.\n",
    "\n",
    "sub_seurat <- subset(seurat_obj, subset = cluster %in% c(\"Ductal cell type 1\", \"Ductal cell type 2\"))\n",
    "\n",
    "DE_MAST <- FindMarkers(sub_seurat, ident.1=\"cancer\", ident.2=\"normal\", test.use=\"MAST\", logfc.threshold=0.5)\n",
    "write.csv(DE_MAST, file = paste0(\"./PDAC_MAST_ductal.csv\"), row.names = TRUE)"
   ]
  }
 ],
 "metadata": {
  "kernelspec": {
   "display_name": "DOLPHIN_R",
   "language": "python",
   "name": "python3"
  },
  "language_info": {
   "codemirror_mode": {
    "name": "ipython",
    "version": 3
   },
   "file_extension": ".py",
   "mimetype": "text/x-python",
   "name": "python",
   "nbconvert_exporter": "python",
   "pygments_lexer": "ipython3",
   "version": "3.10.15"
  }
 },
 "nbformat": 4,
 "nbformat_minor": 2
}
