{
 "cells": [
  {
   "cell_type": "markdown",
   "metadata": {},
   "source": [
    "### Alternative Splicing Analysis\n",
    "\n",
    "This section covers the alternative splicing analyses conducted in the manuscript.\n"
   ]
  },
  {
   "cell_type": "code",
   "execution_count": 1,
   "metadata": {},
   "outputs": [],
   "source": [
    "import os\n",
    "import pandas as pd\n",
    "import matplotlib.pyplot as plt\n",
    "import numpy as np\n",
    "from tqdm import tqdm\n",
    "from functools import reduce\n",
    "# import scib\n",
    "import scanpy as sc\n",
    "import anndata\n",
    "from sklearn.metrics import adjusted_rand_score, normalized_mutual_info_score"
   ]
  },
  {
   "cell_type": "markdown",
   "metadata": {},
   "source": [
    "### Generate PSI adata"
   ]
  },
  {
   "cell_type": "code",
   "execution_count": null,
   "metadata": {},
   "outputs": [],
   "source": [
    "outrigger_path = \"./outrigger_output/\"\n",
    "study_name=\"STUDY\"\n",
    "output_name=study_name+\"_PSI_N10_exon\"\n",
    "DOLPHIN_latent = anndata.read_h5ad(\"DOLPHIN_Z.h5ad\")\n",
    "\n",
    "main_folder=\"Path_to_save_output_data\"\n",
    "output_directory = os.path.join(main_folder, \"final_data\")"
   ]
  },
  {
   "cell_type": "code",
   "execution_count": null,
   "metadata": {},
   "outputs": [],
   "source": [
    "adata_lat = anndata.read(DOLPHIN_latent)\n",
    "adata_lat"
   ]
  },
  {
   "cell_type": "code",
   "execution_count": null,
   "metadata": {},
   "outputs": [],
   "source": [
    "all_sample = list(adata_lat.obs.index)\n",
    "len(all_sample)"
   ]
  },
  {
   "cell_type": "code",
   "execution_count": null,
   "metadata": {},
   "outputs": [],
   "source": [
    "pd_psi_single = pd.read_csv(os.path.join(outrigger_path, \"psi\", \"outrigger_summary.csv\"))\n",
    "pd_psi_single[\"sample_id\"] = pd_psi_single[\"sample_id\"].apply(lambda x:x.split(\".\")[0])"
   ]
  },
  {
   "cell_type": "code",
   "execution_count": null,
   "metadata": {},
   "outputs": [],
   "source": [
    "#Task: cell pca, convert to event_id X sample_name, save each sample dataframe into dictionary\n",
    "d = {}\n",
    "for i, _srr in enumerate(tqdm(all_sample)):\n",
    "    _temp_df = pd_psi_single[pd_psi_single[\"sample_id\"] == _srr]\n",
    "    _temp_df = _temp_df.rename(columns={\"psi\":_srr})\n",
    "    _temp_df = _temp_df[[\"event_id\",_srr]]\n",
    "    d[\"{0}\".format(_srr)] = _temp_df"
   ]
  },
  {
   "cell_type": "code",
   "execution_count": null,
   "metadata": {},
   "outputs": [],
   "source": [
    "df_merge_list = []\n",
    "for key in d:\n",
    "    df_merge_list.append(d[key])"
   ]
  },
  {
   "cell_type": "code",
   "execution_count": null,
   "metadata": {},
   "outputs": [],
   "source": [
    "df_merged = reduce(lambda left,right: pd.merge(left, right, on = \"event_id\", how='outer'), df_merge_list)\n",
    "df_merged = df_merged.set_index(\"event_id\")\n",
    "df_recon = df_merged.transpose()\n",
    "# merge to get label and leiden\n",
    "df_obs_org = pd.merge(pd.DataFrame(adata_lat.obs), df_recon, left_index=True, right_index=True)"
   ]
  },
  {
   "cell_type": "code",
   "execution_count": null,
   "metadata": {},
   "outputs": [],
   "source": [
    "### get AS event and it's corresponding gene name\n",
    "pd_mxe_event = pd.read_csv(os.path.join(outrigger_path, \"index\", \"mxe/events.csv\"))\n",
    "pd_se_event = pd.read_csv(os.path.join(outrigger_path, \"index\", \"se/events.csv\"))"
   ]
  },
  {
   "cell_type": "code",
   "execution_count": null,
   "metadata": {},
   "outputs": [],
   "source": [
    "#get event dataframe\n",
    "pd_mxe_event[\"AS_event_type\"] = \"MXE\" \n",
    "pd_se_event[\"AS_event_type\"] = \"SE\" \n",
    "pd_event = pd.concat([pd_mxe_event, pd_se_event], ignore_index=True)\n",
    "#use gene id to replace nan gene name\n",
    "pd_event[\"isoform1_gene_name_mod\"] = pd_event[\"isoform1_gene_name\"]\n",
    "pd_event.isoform1_gene_name_mod.fillna(pd_event.isoform1_gene_id, inplace=True)\n",
    "pd_event[\"isoform2_gene_name_mod\"] = pd_event[\"isoform2_gene_name\"]\n",
    "pd_event.isoform2_gene_name_mod.fillna(pd_event.isoform2_gene_id, inplace=True)\n",
    "#get the event id the corresponding most frequent gene name\n",
    "pd_event_isoform1 = pd_event[[\"event_id\", \"isoform1_gene_name_mod\"]]\n",
    "pd_event_isoform1_freq = pd_event_isoform1.groupby(['event_id', \"isoform1_gene_name_mod\"], dropna=False).size().to_frame('count1').reset_index()\n",
    "pd_event_isoform1_freq = pd_event_isoform1_freq.sort_values([\"event_id\",\"count1\"],ascending=False).groupby('event_id').head(1)\n",
    "\n",
    "pd_event_isoform2 = pd_event[[\"event_id\", \"isoform2_gene_name_mod\"]]\n",
    "pd_event_isoform2_freq = pd_event_isoform2.groupby(['event_id', \"isoform2_gene_name_mod\"], dropna=False).size().to_frame('count2').reset_index()\n",
    "pd_event_isoform2_freq = pd_event_isoform2_freq.sort_values([\"event_id\",\"count2\"],ascending=False).groupby('event_id').head(1)\n",
    "\n",
    "#merge two isoform table to get final genes per event\n",
    "pd_event_gene = pd.merge(pd_event_isoform1_freq, pd_event_isoform2_freq, left_on=[\"event_id\"], right_on=[\"event_id\"])\n",
    "\n",
    "#remove both isoforms has nan gene_name/id\n",
    "pd_event_gene[\"gene_name\"] = np.select(\n",
    "    [(pd_event_gene[\"isoform1_gene_name_mod\"].notna() & (pd_event_gene[\"isoform1_gene_name_mod\"] == pd_event_gene[\"isoform2_gene_name_mod\"])),\n",
    "    (pd_event_gene[\"isoform1_gene_name_mod\"].notna() & pd_event_gene[\"isoform2_gene_name_mod\"].isna()),\n",
    "    (pd_event_gene[\"isoform2_gene_name_mod\"].notna() & pd_event_gene[\"isoform1_gene_name_mod\"].isna()),\n",
    "    (pd_event_gene[\"isoform1_gene_name_mod\"].notna() & pd_event_gene[\"isoform2_gene_name_mod\"].notna() & (pd_event_gene[\"isoform1_gene_name_mod\"] != pd_event_gene[\"isoform2_gene_name_mod\"])),\n",
    "    (pd_event_gene[\"isoform2_gene_name_mod\"].isna() & pd_event_gene[\"isoform1_gene_name_mod\"].isna())\n",
    "    ],\n",
    "    [pd_event_gene[\"isoform1_gene_name_mod\"],\n",
    "    pd_event_gene[\"isoform1_gene_name_mod\"],\n",
    "    pd_event_gene[\"isoform2_gene_name_mod\"],\n",
    "    pd_event_gene[\"isoform1_gene_name_mod\"] + \",\" + pd_event_gene[\"isoform2_gene_name_mod\"],\n",
    "    \"Empty\"\n",
    "    ]\n",
    ")\n",
    "\n",
    "#remove duplicate gene names if more than one genes\n",
    "pd_event_gene['gene_name'] = pd_event_gene['gene_name'].apply(lambda x: (\",\").join(list(set(x.split(\",\")))) if \",\" in x else x)\n",
    "pd_event_gene = pd_event_gene[[\"event_id\", \"gene_name\"]]\n",
    "\n",
    "dict_event_gene = dict(zip(pd_event_gene.event_id, pd_event_gene.gene_name))"
   ]
  },
  {
   "cell_type": "code",
   "execution_count": null,
   "metadata": {},
   "outputs": [],
   "source": [
    "#save original psi count table\n",
    "## dataframe for annotating the observations = sample name\n",
    "obs = df_obs_org.iloc[:, :adata_lat.obs.shape[1]]\n",
    "\n",
    "## dataframe for annotating the variables = geneid\n",
    "var_names = df_obs_org.T.index.values[adata_lat.obs.shape[1]:] #use gene_id as index since gene name is not unique\n",
    "var = pd.DataFrame(index=var_names)\n",
    "var[\"gene_name\"] = var.index\n",
    "var = var.replace({\"gene_name\": dict_event_gene})\n",
    "\n",
    "# # # ##the data matrix \n",
    "X = df_obs_org.iloc[:,adata_lat.obs.shape[1]:].values\n",
    "adata = anndata.AnnData(X, obs=obs, var=var, dtype=np.float32)\n",
    "\n",
    "adata.write(os.path.join(output_directory, output_name+\".h5ad\")) #2842*61860\n",
    "adata"
   ]
  },
  {
   "cell_type": "markdown",
   "metadata": {},
   "source": [
    "### Differential Alternative Splicing Events"
   ]
  },
  {
   "cell_type": "code",
   "execution_count": null,
   "metadata": {},
   "outputs": [],
   "source": [
    "anndata_psi = os.path.join(output_directory, output_name+\".h5ad\")\n",
    "output_name=study_name+\"_PSI_N10_GO\""
   ]
  },
  {
   "cell_type": "code",
   "execution_count": null,
   "metadata": {},
   "outputs": [],
   "source": [
    "adata = anndata.read_h5ad(anndata_psi)\n",
    "df_psi_raw = adata.to_df()\n",
    "df_psi_raw"
   ]
  },
  {
   "cell_type": "code",
   "execution_count": null,
   "metadata": {},
   "outputs": [],
   "source": [
    "#get number of cells per each event\n",
    "df_psi_raw_t = df_psi_raw.T\n",
    "df_psi_raw_t[\"count\"] = df_psi_raw_t.ge(0.0).sum(axis=1)"
   ]
  },
  {
   "cell_type": "code",
   "execution_count": null,
   "metadata": {},
   "outputs": [],
   "source": [
    "#plot event id vs sample number\n",
    "freq, bins, patches = plt.hist(list(df_psi_raw_t[\"count\"]), edgecolor='white', label='d', bins=range(1,800,25))\n",
    "\n",
    "# x coordinate for labels\n",
    "bin_centers = np.diff(bins)*0.5 + bins[:-1]\n",
    "\n",
    "n = 0\n",
    "for fr, x, patch in zip(freq, bin_centers, patches):\n",
    "  height = int(freq[n])\n",
    "  plt.annotate(\"{}\".format(height),\n",
    "               xy = (x, height),             # top left corner of the histogram bar\n",
    "               xytext = (0,0.2),             # offsetting label position above its bar\n",
    "               textcoords = \"offset points\", # Offset (in points) from the *xy* value\n",
    "               ha = 'center', va = 'bottom',\n",
    "               fontsize = 6\n",
    "               )\n",
    "  n = n+1\n",
    "\n",
    "# plt.legend()\n",
    "plt.title(\"Number of cells per Splicing Event\")\n",
    "plt.xlabel(\"Number of Cells\")\n",
    "plt.ylabel(\"Number of Events\")\n",
    "plt.show"
   ]
  },
  {
   "cell_type": "code",
   "execution_count": null,
   "metadata": {},
   "outputs": [],
   "source": [
    "#only keep event which is exist in more than 10 cells include 10 cells\n",
    "df_psi_raw_t_filter = df_psi_raw_t[df_psi_raw_t[\"count\"] >=10]\n",
    "df_psi_raw_t_filter.drop(columns=[\"count\"], inplace=True)\n",
    "df_psi_raw_filter = df_psi_raw_t_filter.T"
   ]
  },
  {
   "cell_type": "markdown",
   "metadata": {},
   "source": [
    "#### Average PSI Value Per Cluster to Replace NaN Values\n",
    "\n",
    "In this step, we calculate the average PSI value per event and per cluster to replace the `NaN` values. Some clusters may have missing values (`NaN`) for certain events, and replacing these with the cluster-wise averages helps to maintain data integrity for downstream analysis.\n"
   ]
  },
  {
   "cell_type": "code",
   "execution_count": null,
   "metadata": {},
   "outputs": [],
   "source": [
    "#get sample mean\n",
    "df_psi_raw_filter['sample_mean'] = df_psi_raw_filter.mean(axis=1, skipna=True)"
   ]
  },
  {
   "cell_type": "code",
   "execution_count": null,
   "metadata": {},
   "outputs": [],
   "source": [
    "#merge to get ground truth and leiden cluster category\n",
    "df_psi_raw_filter = pd.merge(df_psi_raw_filter, pd.DataFrame(adata.obs), left_index=True, right_index=True)"
   ]
  },
  {
   "cell_type": "code",
   "execution_count": null,
   "metadata": {},
   "outputs": [],
   "source": [
    "df_value_mean = df_psi_raw_filter.groupby(['celltype'], as_index=False)[\"sample_mean\"].mean()\n",
    "df_value_mean.sample_mean = df_value_mean.sample_mean.round(3).astype(str)\n",
    "dict_mean_cluster = dict(zip(df_value_mean[\"celltype\"], df_value_mean.sample_mean))\n",
    "dict_mean_cluster"
   ]
  },
  {
   "cell_type": "code",
   "execution_count": null,
   "metadata": {},
   "outputs": [],
   "source": [
    "df_psi_raw_filter = df_psi_raw_filter.replace({\"celltype\": dict_mean_cluster})\n",
    "df_psi_raw_filter = df_psi_raw_filter.rename(columns={\"celltype\": \"psi_mean_cluster\"})\n",
    "df_psi_raw_filter"
   ]
  },
  {
   "cell_type": "code",
   "execution_count": null,
   "metadata": {},
   "outputs": [],
   "source": [
    "#fill the nan value row using mean psi value per cluster, using str here otherwise will cause iteration error\n",
    "df_psi_mod_mean_cluster = df_psi_raw_filter.apply(lambda x : x.fillna(value=df_psi_raw_filter[\"psi_mean_cluster\"]))\n",
    "df_psi_mod_mean_cluster"
   ]
  },
  {
   "cell_type": "code",
   "execution_count": null,
   "metadata": {},
   "outputs": [],
   "source": [
    "#convert value back to float\n",
    "cols = df_psi_mod_mean_cluster.columns\n",
    "df_psi_mod_mean_cluster[cols] = df_psi_mod_mean_cluster[cols].apply(pd.to_numeric, errors='coerce')"
   ]
  },
  {
   "cell_type": "code",
   "execution_count": null,
   "metadata": {},
   "outputs": [],
   "source": [
    "# merge to get label and leiden\n",
    "df_psi_mod_mean_cluster = df_psi_mod_mean_cluster.drop(columns=[\"sample_mean\",\"psi_mean_cluster\"])\n",
    "df_obs_go_mean_cluster = pd.merge(pd.DataFrame(adata.obs), df_psi_mod_mean_cluster, left_index=True, right_index=True)\n",
    "# df_obs_go_mean_cluster = df_obs_go_mean_cluster.rename(columns = {\"leiden\":\"leiden_celltype1\"})\n",
    "df_obs_go_mean_cluster"
   ]
  },
  {
   "cell_type": "code",
   "execution_count": null,
   "metadata": {},
   "outputs": [],
   "source": [
    "df_obs_go_mean_cluster[\"CB\"] = df_obs_go_mean_cluster.index"
   ]
  },
  {
   "cell_type": "code",
   "execution_count": null,
   "metadata": {},
   "outputs": [],
   "source": [
    "obs = df_obs_go_mean_cluster[[\"CB\", \"celltype\"]]"
   ]
  },
  {
   "cell_type": "code",
   "execution_count": null,
   "metadata": {},
   "outputs": [],
   "source": [
    "#conver to h5ad file\n",
    "## dataframe for annotating the observations = sample name\n",
    "obs = df_obs_go_mean_cluster[[\"CB\", \"celltype\"]]\n",
    "\n",
    "## dataframe for annotating the variables = geneid\n",
    "var_names = df_obs_go_mean_cluster.T.index.values[4:-4] #use gene_id as index since gene name is not unique\n",
    "var = pd.DataFrame(index=var_names)\n",
    "var[\"gene_name\"] = var.index\n",
    "var = var.replace({\"gene_name\": dict_event_gene})\n",
    "\n",
    "# # # ##the data matrix \n",
    "X = df_obs_go_mean_cluster.iloc[:,4:-4].values\n",
    "adata_leiden = anndata.AnnData(X, obs=obs, var=var, dtype=np.float32)\n",
    "\n",
    "adata_leiden.write(os.path.join(output_directory, output_name+\".h5ad\")) #2842*61860"
   ]
  }
 ],
 "metadata": {
  "kernelspec": {
   "display_name": "DOLPHIN",
   "language": "python",
   "name": "python3"
  },
  "language_info": {
   "codemirror_mode": {
    "name": "ipython",
    "version": 3
   },
   "file_extension": ".py",
   "mimetype": "text/x-python",
   "name": "python",
   "nbconvert_exporter": "python",
   "pygments_lexer": "ipython3",
   "version": "3.10.15"
  }
 },
 "nbformat": 4,
 "nbformat_minor": 2
}
